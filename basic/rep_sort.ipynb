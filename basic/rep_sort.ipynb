{
 "cells": [
  {
   "cell_type": "code",
   "execution_count": null,
   "metadata": {},
   "outputs": [],
   "source": [
    "# 선택 정렬: 처리되지 않은 데이터 중 가장 작은 데이터를 선택해 맨앞 데이터와 바꾸기\n",
    "# O(N^2)\n",
    "array=[7,5,9,0,3,1,6,2,4,8]\n",
    "\n",
    "for i in range(len(array)):\n",
    "    min_index=i # 가장 작은 원소의 인덱스\n",
    "    for j in range(i+1,len(array)):\n",
    "        if array[min_index]>array[j]:\n",
    "            min_index=j\n",
    "    array[i],array[min_index]=array[min_index],array[i]"
   ]
  },
  {
   "cell_type": "code",
   "execution_count": null,
   "metadata": {},
   "outputs": [],
   "source": [
    "# 삽입 정렬: 처리되지 않은 데이터를 하나씩 골라 적절한 위치에 삽입\n",
    "# O(N), O(N^2)\n",
    "array=[7,5,9,0,3,1,6,2,4,8]\n",
    "for i in range(1, len(array)):\n",
    "    for j in range(i,0,-1):\n",
    "        if array[j]<array[j-1]:\n",
    "            array[j],array[j-1]=array[j-1],array[j]\n",
    "        else: # 자기보다 작으면 그 위치에서 멈춤\n",
    "            break\n",
    "\n",
    "print(array)"
   ]
  },
  {
   "cell_type": "code",
   "execution_count": null,
   "metadata": {},
   "outputs": [],
   "source": [
    "# 퀵정렬: 기준(Pivot)보다 큰 데이터와 작은 데이터의 위치를 바꾸는 방법\n",
    "# 기본 퀵정렬은 첫번째 데이터를 기준으로 함\n",
    "# 절반씩 분할되면 O(NlogN), 최악의 경우 O(N^2)\n",
    "\n",
    "array=[5,7,9,0,3,1,6,2,4,8]\n",
    "\n",
    "def quick_sort(array,start,end):\n",
    "    if start>=end:\n",
    "        return\n",
    "    pivot=start\n",
    "    left=start+1\n",
    "    right=end\n",
    "    while(left<=right):\n",
    "        while(left<=end and array[left]<=array[pivot]):\n",
    "            left+=1\n",
    "        while(right>start and array[right]>=array[pivot]):\n",
    "            right-=1\n",
    "        if(left>right):\n",
    "            array[right],array[pivot]=array[pivot],array[right]\n",
    "        else:\n",
    "            array[left],array[right]=array[right],array[left]\n",
    "    quick_sort(array,start,right-1)\n",
    "    quick_sort(array,right+1,end)\n",
    "quick_sort(array,0,len(array)-1)\n",
    "print(array)"
   ]
  },
  {
   "cell_type": "code",
   "execution_count": null,
   "metadata": {},
   "outputs": [],
   "source": [
    "# 퀵정렬 파이썬 활용 ver.\n",
    "array=[5,7,9,0,3,1,6,2,4,8]\n",
    "\n",
    "def quick_sort(array):\n",
    "    if len(array)<=1:\n",
    "        return array\n",
    "    pivot = array[0]\n",
    "    tail=array[1:]\n",
    "    left_side=[x for x in tail if x<=pivot]\n",
    "    right_side=[x for x in tail if x>pivot]\n",
    "\n",
    "    return quick_sort(left_side)+[pivot]+quick_sort(right_side)\n",
    "\n",
    "print(quick_sort(array))"
   ]
  },
  {
   "cell_type": "code",
   "execution_count": null,
   "metadata": {},
   "outputs": [],
   "source": [
    "# 계수 정렬: 특정한 조건이 부합할 때만 사용할 수 있지만 매우 빠르게 동작, 정수형태만\n",
    "# 최악의 경우에도 수행 시간 O(N+K)임\n",
    "array=[7,5,9,0,3,1,6,2,9,1,4,8,0,5,2]\n",
    "count=[0]*(max(array)+1)\n",
    "\n",
    "for i in range(len(array)):\n",
    "    count[array[i]]+=1\n",
    "for i in range(len(count[i])):\n",
    "    for j in range(count[i]):\n",
    "        print(i,end=' ')"
   ]
  },
  {
   "cell_type": "code",
   "execution_count": null,
   "metadata": {},
   "outputs": [],
   "source": []
  },
  {
   "attachments": {},
   "cell_type": "markdown",
   "metadata": {},
   "source": [
    "## 정렬 알고리즘 \n",
    "표준 정렬 라이브러리는 최악의 경우에도 O(NlogN)"
   ]
  },
  {
   "attachments": {},
   "cell_type": "markdown",
   "metadata": {},
   "source": [
    "|정렬 알고리즘|평균 시간 복잡도|공간 복잡도|특징|\n",
    "|---|---|---|---|\n",
    "|선택정렬|O(N^2)|O(N)|아이디어 간단|\n",
    "|삽입정렬|O(N^2)|O(N)|거의 정렬되어 있을 때 가장 빠름|\n",
    "|퀵정렬|O(NlogN)|O(N)|대부분 경우에 가장 적합, 충분히 빠름|\n",
    "|계수정렬|O(N+K)|O(N+K)|데이터의 크기가 한정되어 있는 경우에만 사용이 가능, 매우 ㅃ름|"
   ]
  },
  {
   "cell_type": "markdown",
   "metadata": {},
   "source": []
  }
 ],
 "metadata": {
  "language_info": {
   "name": "python"
  },
  "orig_nbformat": 4
 },
 "nbformat": 4,
 "nbformat_minor": 2
}
