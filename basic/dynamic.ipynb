{
 "cells": [
  {
   "attachments": {},
   "cell_type": "markdown",
   "metadata": {},
   "source": [
    "# 다이나믹 프로그래밍, 동적 계획법\n",
    "- 메모리를 적절히 사용하여 수행시간효율성을 비약적으로 향상시키는 방법\n",
    "- 이미 계산된 결과는 별도의 메모리에 저장해 다시 계산 안하게\n",
    "- TopDown&BottomUp\n",
    "- '다이나믹'은 그냥 별다른 의미 없이 사용된 단어\n",
    "\n",
    "1. 최적 부분구조(Optimal Substructure)\n",
    "    - 큰 문제를 작은 문제로 나눠 해결 가능\n",
    "2. 중복되는 부분 문제(Overlapping Subproblem)\n",
    "    - 동일한 작은 문제를 반복적으로\n",
    "\n",
    "- 그리디, 구현, 완탐 해결가능한지 검토하고 안되면 다이나믹 프로그래밍으로\n",
    "- 재귀로 작성한 뒤에 코드를 개선하는 방법으로 사용가능\n",
    "- 기본 유형의 다이나믹 프로그래밍 문제가 출제되는 경우가 많음"
   ]
  },
  {
   "attachments": {},
   "cell_type": "markdown",
   "metadata": {},
   "source": [
    "## 하향식, TopDown, 메모이제이션(Memoization), 캐싱(Caching)\n",
    "- 한 번 계산한 결과를 메모리 공간에 메모\n",
    "    - 같은 문제를 다시 호출하면 결과 가져옴\n",
    "## 탑다운vs보텀업\n",
    "- 보텀업이 전형적임\n",
    "    - 결과 저장용 리스트는 DP테이블\n",
    "- 메모이제이션은 이전 결과를 일시적으로 기록해놓는 넓은 개념임\n",
    "    - 메모이제이션은 다이나믹 프로그래밍에 국한된건 아님"
   ]
  },
  {
   "cell_type": "code",
   "execution_count": 3,
   "metadata": {},
   "outputs": [
    {
     "name": "stdout",
     "output_type": "stream",
     "text": [
      "f(6) f(5) f(4) f(3) f(2) f(1) f(2) f(3) f(4) 8\n"
     ]
    }
   ],
   "source": [
    "# 피보나치 수열: 탑다운\n",
    "d=[0]*100\n",
    "def fibo(x):\n",
    "    print('f('+str(x)+')', end=' ')\n",
    "    if x==1 or x==2:\n",
    "        return 1\n",
    "    if d[x]!=0:\n",
    "        return d[x]\n",
    "    d[x]=fibo(x-1)+fibo(x-2)\n",
    "    return d[x]\n",
    "\n",
    "print(fibo(6))\n"
   ]
  },
  {
   "cell_type": "code",
   "execution_count": null,
   "metadata": {},
   "outputs": [],
   "source": [
    "# 피보나치 수열: 보텀업\n",
    "d=[0]*100\n",
    "\n",
    "d[1]=1\n",
    "d[2]=1\n",
    "n=99\n",
    "\n",
    "for i in range(3,n+1):\n",
    "    d[i]=d[i-1]+d[i-2]\n",
    "\n",
    "print(d[n])"
   ]
  },
  {
   "attachments": {},
   "cell_type": "markdown",
   "metadata": {},
   "source": [
    "## 다이나믹 프로그래밍 vs 분할정복\n",
    "- 둘 다 최적 부분 구조를 가질 때 사용\n",
    "- 차이점은 부분 문제의 중복\n",
    "    - 다이나믹은 중복\n",
    "    - 동일한 부분이 반복 안됨"
   ]
  },
  {
   "cell_type": "code",
   "execution_count": null,
   "metadata": {},
   "outputs": [],
   "source": [
    "# 개미전사\n",
    "n= int(input())\n",
    "array=list(map(int, input().split))\n",
    "d=[0]*100\n",
    "\n",
    "d[0]=array[0]\n",
    "d[1]=max(array[0],array[1])\n",
    "for i in range(2,n):\n",
    "    d[i]=max(d[i-1],d[i-2]+array[i])\n",
    "\n",
    "print(d[n-1])"
   ]
  },
  {
   "cell_type": "code",
   "execution_count": null,
   "metadata": {},
   "outputs": [],
   "source": [
    "# 1로 만들기\n",
    "x=int(input())\n",
    "d=[0]*30001\n",
    "\n",
    "for i in range(2,x+1):\n",
    "    d[i]=d[i-1]+1\n",
    "    if i%2==0:\n",
    "        d[i]=min(d[i],d[i//2]+1)\n",
    "    if i%3==0:\n",
    "        d[i]=min(d[i],d[i//3]+1)\n",
    "    if i%5==0:\n",
    "        d[i]=min(d[i],d[i//5]+1)\n",
    "\n",
    "\n",
    "print(d[x])"
   ]
  },
  {
   "cell_type": "code",
   "execution_count": null,
   "metadata": {},
   "outputs": [],
   "source": [
    "# 효율적인 화폐 구성\n",
    "\n",
    "# INF는 불가능하다는 표시 -> 10,001\n",
    "\n",
    "n,m=map(int, input().split())\n",
    "array=[]\n",
    "for i in range(n):\n",
    "    array.append(int(input()))\n",
    "\n",
    "d=[10001]*(m+1)\n",
    "\n",
    "d[0]=0\n",
    "for i in range(n):\n",
    "    for j in range(array[i],m+1):\n",
    "        if d[j-array[i]]!=10001:\n",
    "            d[j]=min(d[j],d[j-array[i]]+1)\n",
    "\n",
    "if d[m]==10001:\n",
    "    print(-1)\n",
    "else:\n",
    "    print(d[m])"
   ]
  },
  {
   "cell_type": "code",
   "execution_count": null,
   "metadata": {},
   "outputs": [],
   "source": [
    "# 금광\n",
    "for tc in range(int(input())):\n",
    "    n,m=map(int,input().split())\n",
    "    array=list(map(int,input().split()))\n",
    "\n",
    "    dp=[]\n",
    "    index=0\n",
    "    for i in range(n):\n",
    "        dp.append(array[index:index+m])\n",
    "        index+=m\n",
    "    for j in range(1,m):\n",
    "        for i in range(n):\n",
    "            if i==0: left_up=0\n",
    "            else: left_up=dp[i+1][j-1]\n",
    "            if i==n-1:left_down=0\n",
    "            else: left_down=dp[i+1][j-1]\n",
    "            left=dp[i][j-1]\n",
    "            dp[i][j]=dp[i][j]+max(left_up,left_down,left)\n",
    "\n",
    "    result=0\n",
    "    for i in range(n):\n",
    "        result=max(result,dp[i][m-1])\n",
    "    print(result)"
   ]
  },
  {
   "cell_type": "code",
   "execution_count": null,
   "metadata": {},
   "outputs": [],
   "source": [
    "# 병사 배치하기\n",
    "n=int(input())\n",
    "array=list(map(int, input().split()))\n",
    "\n",
    "array.reverse()\n",
    "\n",
    "dp=[1]*n\n",
    "for i in range(1,n):\n",
    "    for j in range(0,i):\n",
    "        if array[j]<array[i]:\n",
    "            dp[i]=max(dp[i],dp[j]+1)\n",
    "        \n",
    "print(n-max(dp))"
   ]
  }
 ],
 "metadata": {
  "kernelspec": {
   "display_name": "Python 3",
   "language": "python",
   "name": "python3"
  },
  "language_info": {
   "codemirror_mode": {
    "name": "ipython",
    "version": 3
   },
   "file_extension": ".py",
   "mimetype": "text/x-python",
   "name": "python",
   "nbconvert_exporter": "python",
   "pygments_lexer": "ipython3",
   "version": "3.9.6"
  },
  "orig_nbformat": 4
 },
 "nbformat": 4,
 "nbformat_minor": 2
}
