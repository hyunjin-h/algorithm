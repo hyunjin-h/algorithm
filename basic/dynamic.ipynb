{
 "cells": [
  {
   "attachments": {},
   "cell_type": "markdown",
   "metadata": {},
   "source": [
    "# 다이나믹 프로그래밍, 동적 계획법\n",
    "- 메모리를 적절히 사용하여 수행시간효율성을 비약적으로 향상시키는 방법\n",
    "- 이미 계산된 결과는 별도의 메모리에 저장해 다시 계산 안하게\n",
    "- TopDown&BottomUp\n",
    "- '다이나믹'은 그냥 별다른 의미 없이 사용된 단어\n",
    "\n",
    "1. 최적 부분구조(Optimal Substructure)\n",
    "    - 큰 문제를 작은 문제로 나눠 해결 가능\n",
    "2. 중복되는 부분 문제(Overlapping Subproblem)\n",
    "    - 동일한 작은 문제를 반복적으로"
   ]
  },
  {
   "cell_type": "code",
   "execution_count": null,
   "metadata": {
    "vscode": {
     "languageId": "plaintext"
    }
   },
   "outputs": [],
   "source": []
  }
 ],
 "metadata": {
  "language_info": {
   "name": "python"
  },
  "orig_nbformat": 4
 },
 "nbformat": 4,
 "nbformat_minor": 2
}
