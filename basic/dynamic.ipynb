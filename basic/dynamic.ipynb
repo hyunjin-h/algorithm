{
 "cells": [
  {
   "attachments": {},
   "cell_type": "markdown",
   "metadata": {},
   "source": [
    "# 다이나믹 프로그래밍, 동적 계획법\n",
    "- 메모리를 적절히 사용하여 수행시간효율성을 비약적으로 향상시키는 방법\n",
    "- 이미 계산된 결과는 별도의 메모리에 저장해 다시 계산 안하게\n",
    "- TopDown&BottomUp\n",
    "- '다이나믹'은 그냥 별다른 의미 없이 사용된 단어\n",
    "\n",
    "1. 최적 부분구조(Optimal Substructure)\n",
    "    - 큰 문제를 작은 문제로 나눠 해결 가능\n",
    "2. 중복되는 부분 문제(Overlapping Subproblem)\n",
    "    - 동일한 작은 문제를 반복적으로"
   ]
  },
  {
   "attachments": {},
   "cell_type": "markdown",
   "metadata": {},
   "source": [
    "## 하향식, TopDown, 메모이제이션(Memoization), 캐싱(Caching)\n",
    "- 한 번 계산한 결과를 메모리 공간에 메모\n",
    "    - 같은 문제를 다시 호출하면 결과 가져옴\n",
    "## 탑다운vs보텀업\n",
    "- 보텀업이 전형적임\n",
    "    - 결과 저장용 리스트는 DP테이블\n",
    "- 메모이제이션은 이전 결과를 일시적으로 기록해놓는 넓은 개념임\n",
    "    - 메모이제이션은 다이나믹 프로그래밍에 국한된건 아님"
   ]
  },
  {
   "cell_type": "code",
   "execution_count": 1,
   "metadata": {},
   "outputs": [
    {
     "name": "stdout",
     "output_type": "stream",
     "text": [
      "218922995834555169026\n"
     ]
    },
    {
     "data": {
      "text/plain": [
       "8"
      ]
     },
     "execution_count": 1,
     "metadata": {},
     "output_type": "execute_result"
    }
   ],
   "source": [
    "# 피보나치 수열: 탑다운\n",
    "d=[0]*100\n",
    "def fibo(x):\n",
    "    print('f('+str(x)+')', end=' ')\n",
    "    if x==1 or x==2:\n",
    "        return 1\n",
    "    if d[x]!=0:\n",
    "        return d[x]\n",
    "    d[x]=fibo(x-1)+fibo(x-2)\n",
    "    return d[x]\n",
    "\n",
    "print(fibo(99))\n"
   ]
  },
  {
   "cell_type": "code",
   "execution_count": null,
   "metadata": {},
   "outputs": [],
   "source": [
    "# 피보나치 수열: 보텀업\n",
    "d=[0]*100\n",
    "\n",
    "d[1]=1\n",
    "d[2]=1\n",
    "n=99\n",
    "\n",
    "for i in range(3,n+1):\n",
    "    d[i]=d[i-1]+d[i-2]\n",
    "\n",
    "print(d[n])"
   ]
  }
 ],
 "metadata": {
  "kernelspec": {
   "display_name": "Python 3",
   "language": "python",
   "name": "python3"
  },
  "language_info": {
   "codemirror_mode": {
    "name": "ipython",
    "version": 3
   },
   "file_extension": ".py",
   "mimetype": "text/x-python",
   "name": "python",
   "nbconvert_exporter": "python",
   "pygments_lexer": "ipython3",
   "version": "3.9.6"
  },
  "orig_nbformat": 4
 },
 "nbformat": 4,
 "nbformat_minor": 2
}
