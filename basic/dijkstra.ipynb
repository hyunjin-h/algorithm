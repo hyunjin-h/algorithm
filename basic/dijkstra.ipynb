{
 "cells": [
  {
   "attachments": {},
   "cell_type": "markdown",
   "metadata": {},
   "source": [
    "# 다익스트라 최단경로\n",
    "- 노드, 간선\n",
    "- 음의 간선이 없을 때 가능 \n",
    "- 그리디 알고리즘으로 분류\n",
    "1. 출발노드 설정\n",
    "2. 최단거리테이블 초기화\n",
    "3. 방문하지않은 노드 중 최단거리가 가장 짧은 노드 선택\n",
    "4. 해당 노드를 거쳐 다른 노드로 가는 비용 계산해 최단거리 테이블 갱신\n",
    "5. 3,4번 반복"
   ]
  },
  {
   "cell_type": "code",
   "execution_count": null,
   "metadata": {
    "vscode": {
     "languageId": "plaintext"
    }
   },
   "outputs": [],
   "source": []
  }
 ],
 "metadata": {
  "language_info": {
   "name": "python"
  },
  "orig_nbformat": 4
 },
 "nbformat": 4,
 "nbformat_minor": 2
}
