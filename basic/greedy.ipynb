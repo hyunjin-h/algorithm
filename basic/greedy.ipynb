{
 "cells": [
  {
   "cell_type": "code",
   "execution_count": 2,
   "metadata": {
    "collapsed": true
   },
   "outputs": [
    {
     "name": "stdout",
     "output_type": "stream",
     "text": [
      "5\n"
     ]
    }
   ],
   "source": [
    "# N이 1이 될 때까지\n",
    "n,k=map(int,input().split())\n",
    "result=0\n",
    "\n",
    "while True:\n",
    "    # n이 k로 나누어 떨어지는 수가 될때까지 빼기\n",
    "    target=(n//k)*k\n",
    "    result+=(n-target)\n",
    "    n=target\n",
    "    if n<k:\n",
    "        break\n",
    "    result+=1\n",
    "    n//=k\n",
    "\n",
    "result+=(n-1)\n",
    "print(result)"
   ]
  },
  {
   "cell_type": "code",
   "execution_count": 6,
   "metadata": {},
   "outputs": [
    {
     "name": "stdout",
     "output_type": "stream",
     "text": [
      "576\n"
     ]
    }
   ],
   "source": [
    "# 곱하기 혹은 더하기\n",
    "\n",
    "# 0,1 일때는 더하기\n",
    "# 아닐때는 곱하기 하는게 제일 큰수를 출력\n",
    "data=input()\n",
    "num=int(data[0])\n",
    "result=0\n",
    "for i in range(1,len(data)):\n",
    "    next=int(data[i])\n",
    "    if num==0 or num==1 or next==0 or next==1: #<=1로 표현하면 더 간단함!\n",
    "        result=num+next\n",
    "    else:\n",
    "        result=num*next\n",
    "    num=result   \n",
    "print(result)"
   ]
  },
  {
   "cell_type": "code",
   "execution_count": null,
   "metadata": {},
   "outputs": [],
   "source": []
  }
 ],
 "metadata": {
  "kernelspec": {
   "display_name": "Python 3",
   "language": "python",
   "name": "python3"
  },
  "language_info": {
   "codemirror_mode": {
    "name": "ipython",
    "version": 3
   },
   "file_extension": ".py",
   "mimetype": "text/x-python",
   "name": "python",
   "nbconvert_exporter": "python",
   "pygments_lexer": "ipython3",
   "version": "3.9.6"
  }
 },
 "nbformat": 4,
 "nbformat_minor": 0
}
