{
 "cells": [
  {
   "attachments": {},
   "cell_type": "markdown",
   "metadata": {},
   "source": [
    "# 이진탐색 알고리즘\n",
    "- 순차 탐색: 앞에서부터 하나씩\n",
    "- 이진 탐색: 정렬되어있는 리스트에서 탐색 범위를 절반씩 좁혀가며 데이터를 탐색하는 방법\n",
    "    - 시작점, 끝점, 중간점을 이용해 탐색 범위 바꿈\n",
    "    - O(logN)\n",
    "- 큰 탐색 범위를 보면 가장 먼저 이진 탐색을 떠올려야 함"
   ]
  },
  {
   "cell_type": "code",
   "execution_count": null,
   "metadata": {},
   "outputs": [],
   "source": [
    "\n",
    "# 재귀적 구현\n",
    "def binary_search(array,target,start,end):\n",
    "    if start>end:\n",
    "        return None\n",
    "    mid=(start+end)//2\n",
    "    if array[mid]==target:\n",
    "        return mid\n",
    "    elif array[mid]>target:\n",
    "        return binary_search(array,target,start,mid-1)\n",
    "    else:\n",
    "        return binary_search(array,target,mid+1,end)\n",
    "n,target=list(map(int,input().split()))\n",
    "array=list(map(int,input().split()))\n",
    "\n",
    "result=binary_search(array,target,0,n-1)\n",
    "if result==None:\n",
    "    print(\"원소 존재 X\")\n",
    "else:\n",
    "    print(result+1)"
   ]
  },
  {
   "cell_type": "code",
   "execution_count": null,
   "metadata": {},
   "outputs": [],
   "source": [
    "# 반복문 구현\n",
    "def binary_search(array,target,start,end):\n",
    "    while start<=end:\n",
    "        mid=(start+end)//2\n",
    "        if array[mid]==target:\n",
    "            return mid\n",
    "        elif array[mid]>target:\n",
    "            end=mid-1\n",
    "        else:\n",
    "            start=mid+1\n",
    "    return None\n",
    "\n",
    "n,target=list(map(int,input().split()))\n",
    "array=list(map(int,input().split()))\n",
    "\n",
    "result=binary_search(array,target,0,n-1)\n",
    "if result==None:\n",
    "    print(\"원소 존재 X\")\n",
    "else:\n",
    "    print(result+1)"
   ]
  },
  {
   "cell_type": "code",
   "execution_count": 1,
   "metadata": {},
   "outputs": [
    {
     "name": "stdout",
     "output_type": "stream",
     "text": [
      "2\n",
      "4\n"
     ]
    }
   ],
   "source": [
    "# 파이썬 이진 탐색 라이브러리\n",
    "from bisect import bisect_left, bisect_right\n",
    "\n",
    "a=[1,2,4,4,8]\n",
    "x=4\n",
    "print(bisect_left(a,x))\n",
    "print(bisect_right(a,x))"
   ]
  },
  {
   "cell_type": "code",
   "execution_count": null,
   "metadata": {},
   "outputs": [],
   "source": [
    "# 값이 특정 범위에 속하는 데이터 개수 구하기\n",
    "from bisect import bisect_lef, bisect_right\n",
    "\n",
    "def count_by_range(a,left_value, right_value):\n",
    "    right_index=bisect_right(a,right_value)\n",
    "    left_index=bisect_left\n",
    "    return right_index-left_index\n",
    "\n",
    "a=[1,2,3,3,3,3,4,4,8,9]\n",
    "\n",
    "print(count_by_range(a,4,4))\n",
    "print(count_by_range(a,-1,3))"
   ]
  },
  {
   "attachments": {},
   "cell_type": "markdown",
   "metadata": {},
   "source": [
    "## 파라메트릭 서치 (Parametric Search)\n",
    "- 파라메트릭 서치란 최적화 문제를 결정문제(y or n)로 바꿔 해결하는 기법\n",
    "    - ex) 특정 조건 만족하는 가장 알맞은 값 찾는 최적화\n",
    "- 이진탐색 이용하여 해결 가능\n"
   ]
  },
  {
   "cell_type": "code",
   "execution_count": null,
   "metadata": {},
   "outputs": [],
   "source": [
    "# 떡볶이 떡 만들기\n",
    "n,m=list(map(int, input().split(' ')))\n",
    "\n",
    "array=list(map(int, input().split()))\n",
    "\n",
    "start=0\n",
    "end=max(array) # 가장 긴 떡의 길이를 끝점으로 설정\n",
    "\n",
    "result=0\n",
    "while(start<=end):\n",
    "    total=0\n",
    "    mid=(start+end)//2\n",
    "    for x in array:\n",
    "        if x>mid:\n",
    "            total+=x-mid\n",
    "    if total<m:\n",
    "        end=mid-1\n",
    "    else:\n",
    "        result=mid\n",
    "        start=mid+1\n",
    "\n",
    "        \n",
    "print(result)"
   ]
  },
  {
   "cell_type": "code",
   "execution_count": 2,
   "metadata": {},
   "outputs": [
    {
     "name": "stdout",
     "output_type": "stream",
     "text": [
      "7\n"
     ]
    }
   ],
   "source": [
    "# max 함수 다시해보기\n",
    "array=[1,2,3,4,7,3,2,1]\n",
    "print(max(array))"
   ]
  },
  {
   "cell_type": "code",
   "execution_count": null,
   "metadata": {},
   "outputs": [],
   "source": [
    "# 정렬된 배열에서 특정 수의 개수 구하기\n",
    "from bisect import bisect_lef, bisect_right\n",
    "\n",
    "def count_by_range(a,left_value, right_value):\n",
    "    right_index=bisect_right(a,right_value)\n",
    "    left_index=bisect_left\n",
    "    return right_index-left_index\n",
    "\n",
    "n,x=map(int,input().split())\n",
    "array=list(map(int,input().split()))\n",
    "\n",
    "count=count_by_range(array,x,x)\n",
    "if count==0:\n",
    "    print(-1)\n",
    "else:\n",
    "    print(count)"
   ]
  }
 ],
 "metadata": {
  "kernelspec": {
   "display_name": "Python 3",
   "language": "python",
   "name": "python3"
  },
  "language_info": {
   "codemirror_mode": {
    "name": "ipython",
    "version": 3
   },
   "file_extension": ".py",
   "mimetype": "text/x-python",
   "name": "python",
   "nbconvert_exporter": "python",
   "pygments_lexer": "ipython3",
   "version": "3.9.6"
  },
  "orig_nbformat": 4
 },
 "nbformat": 4,
 "nbformat_minor": 2
}
