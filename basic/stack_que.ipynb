{
 "cells": [
  {
   "attachments": {},
   "cell_type": "markdown",
   "metadata": {},
   "source": [
    "\n",
    "# 스택 자료구조\n"
   ]
  },
  {
   "cell_type": "code",
   "execution_count": 1,
   "metadata": {},
   "outputs": [
    {
     "name": "stdout",
     "output_type": "stream",
     "text": [
      "[1, 3, 5]\n",
      "[5, 3, 1]\n"
     ]
    }
   ],
   "source": [
    "stack=[]\n",
    "\n",
    "stack.append(5)\n",
    "stack.append(3)\n",
    "stack.append(2)\n",
    "stack.pop()\n",
    "stack.append(1)\n",
    "stack.append(2)\n",
    "stack.pop()\n",
    "\n",
    "print(stack[::-1]) #최상단 원소부터 출력\n",
    "print(stack) #최하단 원소부터"
   ]
  },
  {
   "attachments": {},
   "cell_type": "markdown",
   "metadata": {},
   "source": [
    "# 큐 자료구조"
   ]
  },
  {
   "cell_type": "code",
   "execution_count": 3,
   "metadata": {},
   "outputs": [
    {
     "name": "stdout",
     "output_type": "stream",
     "text": [
      "deque([2, 7, 1, 2])\n",
      "deque([2, 1, 7, 2])\n"
     ]
    }
   ],
   "source": [
    "from collections import deque\n",
    "queue=deque()\n",
    "\n",
    "queue.append(5)\n",
    "queue.append(3)\n",
    "queue.append(2)\n",
    "queue.append(7)\n",
    "queue.popleft()#삭제할때\n",
    "queue.append(1)\n",
    "queue.append(2)\n",
    "queue.popleft()\n",
    "\n",
    "print(queue) #먼저들어온 순부터 출력\n",
    "queue.reverse()\n",
    "print(queue) #나중에 들어온 원소부터"
   ]
  },
  {
   "cell_type": "code",
   "execution_count": 2,
   "metadata": {},
   "outputs": [
    {
     "name": "stdout",
     "output_type": "stream",
     "text": [
      "[1, 2, 3, 4, 5]\n",
      "[3, 4, 5]\n"
     ]
    }
   ],
   "source": [
    "#deque 없는 queue\n",
    "queue=[1,2,3]\n",
    "queue.append(4)\n",
    "queue.append(5)\n",
    "print(queue)\n",
    "queue.pop(0)\n",
    "queue.pop(0)\n",
    "print(queue)\n"
   ]
  },
  {
   "cell_type": "code",
   "execution_count": null,
   "metadata": {},
   "outputs": [],
   "source": []
  }
 ],
 "metadata": {
  "kernelspec": {
   "display_name": "Python 3",
   "language": "python",
   "name": "python3"
  },
  "language_info": {
   "codemirror_mode": {
    "name": "ipython",
    "version": 3
   },
   "file_extension": ".py",
   "mimetype": "text/x-python",
   "name": "python",
   "nbconvert_exporter": "python",
   "pygments_lexer": "ipython3",
   "version": "3.9.6"
  },
  "orig_nbformat": 4
 },
 "nbformat": 4,
 "nbformat_minor": 2
}
