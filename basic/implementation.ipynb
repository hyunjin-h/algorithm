{
 "cells": [
  {
   "cell_type": "code",
   "execution_count": null,
   "metadata": {},
   "outputs": [],
   "source": [
    "# 상하좌우\n",
    "n=int(input())\n",
    "plans=input().split()\n",
    "x,y=1,1\n",
    "\n",
    "dx=[0,0,-1,1]\n",
    "dy=[-1,1,0,0]\n",
    "direct=['L','R','U','D']\n",
    "for plan in plans:\n",
    "    for i in range(len(direct)):\n",
    "        if plan==direct[i]:\n",
    "            nx=x+dx[i]\n",
    "            ny=y+dy[i]\n",
    "    if nx<1 or ny<1 or nx>n or ny>n: # 헷갈렸던 부분\n",
    "        continue\n",
    "    x,y=nx,ny #조건에 맞는다면 현재위치 바꿔주는 것!\n",
    "print(x,y)\n"
   ]
  },
  {
   "cell_type": "code",
   "execution_count": null,
   "metadata": {},
   "outputs": [],
   "source": [
    "# 시각\n",
    "h=int(input())\n",
    "count=0\n",
    "for i in range(h+1):\n",
    "    for j in range(60):\n",
    "        for k in range(60):\n",
    "            if '3' in str(i) + str(j) +str(k):\n",
    "                count+=1\n",
    "print(count)"
   ]
  }
 ],
 "metadata": {
  "language_info": {
   "name": "python"
  },
  "orig_nbformat": 4
 },
 "nbformat": 4,
 "nbformat_minor": 2
}
