{
 "cells": [
  {
   "cell_type": "code",
   "execution_count": null,
   "metadata": {},
   "outputs": [],
   "source": [
    "# 상하좌우\n",
    "n=int(input())\n",
    "plans=input().split()\n",
    "x,y=1,1\n",
    "\n",
    "dx=[0,0,-1,1]\n",
    "dy=[-1,1,0,0]\n",
    "direct=['L','R','U','D']\n",
    "for plan in plans:\n",
    "    for i in range(len(direct)):\n",
    "        if plan==direct[i]:\n",
    "            nx=x+dx[i]\n",
    "            ny=y+dy[i]\n",
    "    if nx<1 or ny<1 or nx>n or ny>n: # 헷갈렸던 부분\n",
    "        continue\n",
    "    x,y=nx,ny #조건에 맞는다면 현재위치 바꿔주는 것!\n",
    "print(x,y)\n"
   ]
  },
  {
   "cell_type": "code",
   "execution_count": null,
   "metadata": {},
   "outputs": [],
   "source": [
    "# 시각\n",
    "h=int(input())\n",
    "count=0\n",
    "for i in range(h+1):\n",
    "    for j in range(60):\n",
    "        for k in range(60):\n",
    "            if '3' in str(i) + str(j) +str(k):\n",
    "                count+=1\n",
    "print(count)"
   ]
  },
  {
   "cell_type": "code",
   "execution_count": 4,
   "metadata": {},
   "outputs": [
    {
     "name": "stdout",
     "output_type": "stream",
     "text": [
      "6\n"
     ]
    }
   ],
   "source": [
    "# 왕실의 나이트(내풀이)\n",
    "loc=input()\n",
    "row=int(loc[1])\n",
    "col=loc[0]\n",
    "n=['a','b','c','d','e','f','g','h']\n",
    "for i in range(8):\n",
    "    if col==n[i]:\n",
    "        col=i+1\n",
    "    else:\n",
    "        continue\n",
    "dx=[-2,2,-2,2,-1,1,-1,1]\n",
    "dy=[-1,1,1,-1,-2,2,2,-2]\n",
    "count=0\n",
    "for i in range(8):\n",
    "    nx=row+dx[i]\n",
    "    ny=col+dy[i]\n",
    "    if nx>=1 and nx<=8 and ny>=1 and ny<=8:\n",
    "        count+=1\n",
    "print(count)"
   ]
  },
  {
   "cell_type": "code",
   "execution_count": null,
   "metadata": {},
   "outputs": [],
   "source": [
    "# 왕실의 나이트(모범)\n",
    "input_data=input()\n",
    "row=int(input_data[1])\n",
    "col=int(ord(input_data[0]))-int(ord('a'))+1 # ord()아스키 코드로 변환\n",
    "\n",
    "steps=[(-2,-1),(-1,-2),(1,-2),(2,-1),(2,1),(1,2),(-1,2),(-2,1)]\n",
    "\n",
    "result=0\n",
    "for step in steps:\n",
    "    next_row=row+step[0]\n",
    "    next_column=col+step[1]\n",
    "\n",
    "    if next_row>=1 and next_row<=8 and next_column>=1 and next_column<=8:\n",
    "        result+=1\n",
    "print(result)"
   ]
  }
 ],
 "metadata": {
  "kernelspec": {
   "display_name": "Python 3",
   "language": "python",
   "name": "python3"
  },
  "language_info": {
   "codemirror_mode": {
    "name": "ipython",
    "version": 3
   },
   "file_extension": ".py",
   "mimetype": "text/x-python",
   "name": "python",
   "nbconvert_exporter": "python",
   "pygments_lexer": "ipython3",
   "version": "3.9.6"
  },
  "orig_nbformat": 4
 },
 "nbformat": 4,
 "nbformat_minor": 2
}
